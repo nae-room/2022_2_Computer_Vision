{
 "cells": [
  {
   "cell_type": "code",
   "execution_count": 2,
   "id": "b658bc0f",
   "metadata": {},
   "outputs": [],
   "source": [
    "import cv2\n",
    "import numpy as np"
   ]
  },
  {
   "cell_type": "code",
   "execution_count": 3,
   "id": "0a18a4a1",
   "metadata": {},
   "outputs": [],
   "source": [
    "def detectAndDisplay(frame):\n",
    "    # pass the blob through the model and obtain the detections\n",
    "    model = cv2.dnn.readNetFromCaffe(prototxt_name, model_name)\n",
    "    \n",
    "    # resize to 300x300 and then normalizing\n",
    "    blob = cv2.dnn.blobFromImage(cv2.resize(frame, (300,300)), 1.0, (300,300), (104.0, 177.0, 123.0))\n",
    "    \n",
    "    model.setInput(blob)\n",
    "    # detection 결과\n",
    "    detections = model.forward()\n",
    "    \n",
    "    #detection 결과 출력\n",
    "    for i in range(0, detections.shape[2]):\n",
    "        # 얼마나 가까운지에 대한 값(확신 정도)\n",
    "        confidence = detections[0, 0, i, 2]\n",
    "        # min_confidence = 0.5\n",
    "        if confidence > min_confidence:\n",
    "            box = detections[0, 0, i, 3:7] * np.array([width, height, width, height])\n",
    "            (startX, startY, endX, endY) = box.astype(\"int\")\n",
    "            print(confidence, startX, startY, endX, endY)\n",
    "            # draw box and text\n",
    "            text = \"{:.2f}%\".format(confidence*100)\n",
    "            y = startY - 10 if startY - 10 > 10 else startY + 10\n",
    "            cv2.rectangle(frame, (startX, startY), (endX, endY), (0, 255, 0), 2)\n",
    "            cv2.putText(frame, text, (startX, y), cv2.FONT_HERSHEY_SIMPLEX, 0.5, (0,255,0), 1)\n",
    "            \n",
    "    cv2.imshow(\"Face Det by dnn\", frame)"
   ]
  },
  {
   "cell_type": "code",
   "execution_count": 6,
   "id": "a4bb92aa",
   "metadata": {},
   "outputs": [
    {
     "name": "stdout",
     "output_type": "stream",
     "text": [
      "0.9805226 259 41 307 96\n",
      "0.87533945 336 52 371 105\n",
      "0.7113075 91 82 123 120\n",
      "0.600547 449 105 478 140\n"
     ]
    }
   ],
   "source": [
    "# model(train 결과 모델 사용)\n",
    "model_name = 'opencv_dnn_202005/opencv_dnn_202005/res10_300x300_ssd_iter_140000.caffemodel'\n",
    "# model 구조 확인\n",
    "prototxt_name = 'deploy.prototxt3_First_LR.txt'\n",
    "# 최소 신뢰도 = 0.5\n",
    "min_confidence = 0.5\n",
    "file_name = 'opencv_dnn_202005/opencv_dnn_202005/image/soccer_02.jpg'\n",
    "# file_name = 'D:/opencv_dnn_202005/opencv_dnn_202005/image/img_100029.jpg'\n",
    "\n",
    "img = cv2.imread(file_name)\n",
    "(height, width) = img.shape[:2]\n",
    "\n",
    "cv2.imshow(\"Or\",img)\n",
    "detectAndDisplay(img)\n",
    "\n",
    "cv2.waitKey(0)\n",
    "cv2.destroyAllWindows()"
   ]
  },
  {
   "cell_type": "code",
   "execution_count": null,
   "id": "58be4c8d",
   "metadata": {},
   "outputs": [],
   "source": []
  }
 ],
 "metadata": {
  "kernelspec": {
   "display_name": "condanote",
   "language": "python",
   "name": "conda"
  },
  "language_info": {
   "codemirror_mode": {
    "name": "ipython",
    "version": 3
   },
   "file_extension": ".py",
   "mimetype": "text/x-python",
   "name": "python",
   "nbconvert_exporter": "python",
   "pygments_lexer": "ipython3",
   "version": "3.9.6"
  }
 },
 "nbformat": 4,
 "nbformat_minor": 5
}
